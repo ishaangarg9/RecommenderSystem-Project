{
 "cells": [
  {
   "cell_type": "code",
   "execution_count": 1,
   "metadata": {},
   "outputs": [
    {
     "name": "stdout",
     "output_type": "stream",
     "text": [
      "                                            abstract  \\\n",
      "0  Proof systems for hybrid logic typically use @...   \n",
      "1  DNA microarray technology provides a broad sna...   \n",
      "2  This paper presents \"Activity Analysis\" as a m...   \n",
      "3  Closeness to singularities of manipulators bas...   \n",
      "4  If a Steiner system S(4,5,17) exists, it would...   \n",
      "\n",
      "                                             authors  \\\n",
      "0  ['Patrick Blackburn', 'Thomas Bolander', 'Torb...   \n",
      "1  ['Li Zhang', 'Aidong Zhang', 'Murali Ramanathan']   \n",
      "2             ['Jakob E. Bardram', 'Afsaneh Doryab']   \n",
      "3                                     ['Wanghui Bu']   \n",
      "4        ['Patric R. J. Östergård', 'Olli Pottonen']   \n",
      "\n",
      "                                               title  __index_level_0__  \n",
      "0  Completeness and termination for a Seligman-st...             632796  \n",
      "1  Fourier harmonic approach for visualizing temp...             146550  \n",
      "2  Activity analysis: applying activity theory to...             133983  \n",
      "3  Closeness to singularities of manipulators bas...             810430  \n",
      "4           There exists no Steiner system S(4,5,17)             235572  \n",
      "<class 'pandas.core.frame.DataFrame'>\n",
      "RangeIndex: 500000 entries, 0 to 499999\n",
      "Data columns (total 4 columns):\n",
      " #   Column             Non-Null Count   Dtype \n",
      "---  ------             --------------   ----- \n",
      " 0   abstract           500000 non-null  object\n",
      " 1   authors            499999 non-null  object\n",
      " 2   title              500000 non-null  object\n",
      " 3   __index_level_0__  500000 non-null  int64 \n",
      "dtypes: int64(1), object(3)\n",
      "memory usage: 15.3+ MB\n",
      "abstract             0\n",
      "authors              1\n",
      "title                0\n",
      "__index_level_0__    0\n",
      "dtype: int64\n"
     ]
    }
   ],
   "source": [
    "import pandas as pd\n",
    "\n",
    "# Load your CSV (adjust the file path as needed)\n",
    "df = pd.read_csv('data/data.csv')\n",
    "\n",
    "# Check the first few rows\n",
    "print(df.head())\n",
    "\n",
    "# Check basic info\n",
    "df.info()\n",
    "\n",
    "# Check for missing values\n",
    "print(df.isnull().sum())"
   ]
  },
  {
   "cell_type": "code",
   "execution_count": 2,
   "metadata": {},
   "outputs": [],
   "source": [
    "import ast\n",
    "\n",
    "def parse_authors(author_str):\n",
    "    # Safely evaluate the string to a Python list\n",
    "    try:\n",
    "        return ast.literal_eval(author_str)\n",
    "    except:\n",
    "        return []\n",
    "\n",
    "df['authors'] = df['authors'].apply(parse_authors)"
   ]
  },
  {
   "cell_type": "code",
   "execution_count": 3,
   "metadata": {},
   "outputs": [],
   "source": [
    "df['title'] = df['title'].str.strip()\n",
    "df['abstract'] = df['abstract'].str.strip()"
   ]
  },
  {
   "cell_type": "code",
   "execution_count": 4,
   "metadata": {},
   "outputs": [
    {
     "name": "stdout",
     "output_type": "stream",
     "text": [
      "Duplicate titles:\n",
      "                                                  abstract  \\\n",
      "35859   We consider the uplink access control problem ...   \n",
      "78614   A High Throughput/Gate AES Hardware Architectu...   \n",
      "80501                         Performance Management Work   \n",
      "83683   Speech to Head Gesture Mapping in Multimodal H...   \n",
      "86154   Block differential encoding for rapidly fading...   \n",
      "...                                                   ...   \n",
      "494088  We prove an ω(log n) lower bound on the conond...   \n",
      "495757                  Matched drawings of planar graphs   \n",
      "496197  We introduce a search problem called “mutual s...   \n",
      "498424  This paper proposes to build overlays that hel...   \n",
      "498825  Exchange-Repairs: Managing Inconsistency in Da...   \n",
      "\n",
      "                                                  authors  \\\n",
      "35859                  [Yu-Kwong Kwok, Vincent K. N. Lau]   \n",
      "78614   [Rei Ueno, Sumio Morioka, Naofumi Homma, Takaf...   \n",
      "80501   [Andreas Brunnert, Christian Vögele, Alexandru...   \n",
      "83683                           [Amir Aly, Adriana Tapus]   \n",
      "86154         [Xiaoli Ma, Bing Lu, Georgios B. Giannakis]   \n",
      "...                                                   ...   \n",
      "494088                                        [Mika Göös]   \n",
      "495757  [Emilio Di Giacomo, Walter Didimo, Marc J. van...   \n",
      "496197  [Harry Buhrman, Matthew K. Franklin, Juan A. G...   \n",
      "498424                   [Ramsés Morales, Indranil Gupta]   \n",
      "498825  [Balder ten Cate, Richard L. Halpert, Phokion ...   \n",
      "\n",
      "                                                    title  __index_level_0__  \n",
      "35859   A novel channel-adaptive uplink access control...              97751  \n",
      "78614   A High Throughput/Gate AES Hardware Architectu...             984953  \n",
      "80501                         Performance Management Work             683973  \n",
      "83683   Speech to Head Gesture Mapping in Multimodal H...             601193  \n",
      "86154   Block differential encoding for rapidly fading...             553705  \n",
      "...                                                   ...                ...  \n",
      "494088        Lower Bounds for Clique vs. Independent Set             785260  \n",
      "495757                  Matched drawings of planar graphs             542222  \n",
      "496197                                      Mutual search             675466  \n",
      "498424  AVMON: Optimal and Scalable Discovery of Consi...             441170  \n",
      "498825  Exchange-Repairs: Managing Inconsistency in Da...             765747  \n",
      "\n",
      "[230 rows x 4 columns]\n"
     ]
    }
   ],
   "source": [
    "duplicate_titles = df[df.duplicated(subset='title')]\n",
    "print(\"Duplicate titles:\\n\", duplicate_titles)"
   ]
  },
  {
   "cell_type": "code",
   "execution_count": 9,
   "metadata": {},
   "outputs": [],
   "source": [
    "df.drop_duplicates(subset=['title'], keep='first', inplace=True)"
   ]
  },
  {
   "cell_type": "code",
   "execution_count": 10,
   "metadata": {},
   "outputs": [
    {
     "name": "stdout",
     "output_type": "stream",
     "text": [
      "Number of papers: 499770\n"
     ]
    }
   ],
   "source": [
    "num_papers = df.shape[0]\n",
    "print(\"Number of papers:\", num_papers)"
   ]
  },
  {
   "cell_type": "code",
   "execution_count": 11,
   "metadata": {},
   "outputs": [
    {
     "name": "stdout",
     "output_type": "stream",
     "text": [
      "Number of unique authors: 633322\n"
     ]
    }
   ],
   "source": [
    "all_authors = df['authors'].explode()  # flatten the list of authors\n",
    "unique_authors = all_authors.nunique()\n",
    "print(\"Number of unique authors:\", unique_authors)"
   ]
  },
  {
   "cell_type": "code",
   "execution_count": 12,
   "metadata": {},
   "outputs": [
    {
     "name": "stdout",
     "output_type": "stream",
     "text": [
      "count    499770.000000\n",
      "mean        120.338498\n",
      "std          74.309620\n",
      "min           1.000000\n",
      "25%          75.000000\n",
      "50%         124.000000\n",
      "75%         165.000000\n",
      "max        1848.000000\n",
      "Name: abstract_length, dtype: float64\n"
     ]
    }
   ],
   "source": [
    "df['abstract_length'] = df['abstract'].apply(lambda x: len(x.split()))\n",
    "print(df['abstract_length'].describe())"
   ]
  },
  {
   "cell_type": "code",
   "execution_count": 8,
   "metadata": {},
   "outputs": [
    {
     "data": {
      "image/png": "[encoded data removed]",
      "text/plain": [
       "<Figure size 800x600 with 1 Axes>"
      ]
     },
     "metadata": {},
     "output_type": "display_data"
    }
   ],
   "source": [
    "import matplotlib.pyplot as plt\n",
    "\n",
    "author_counts = all_authors.value_counts().head(10)  # top 10 authors\n",
    "author_counts.plot(kind='barh', figsize=(8,6))\n",
    "plt.xlabel(\"Count of Papers\")\n",
    "plt.ylabel(\"Author\")\n",
    "plt.title(\"Top 10 Most Frequent Authors\")\n",
    "plt.show()"
   ]
  },
  {
   "cell_type": "code",
   "execution_count": 14,
   "metadata": {},
   "outputs": [],
   "source": [
    "df.to_csv('data/data_cleaned.csv', index=False)"
   ]
  },
  {
   "cell_type": "code",
   "execution_count": null,
   "metadata": {},
   "outputs": [],
   "source": []
  }
 ],
 "metadata": {
  "kernelspec": {
   "display_name": "venv",
   "language": "python",
   "name": "python3"
  },
  "language_info": {
   "codemirror_mode": {
    "name": "ipython",
    "version": 3
   },
   "file_extension": ".py",
   "mimetype": "text/x-python",
   "name": "python",
   "nbconvert_exporter": "python",
   "pygments_lexer": "ipython3",
   "version": "3.13.2"
  }
 },
 "nbformat": 4,
 "nbformat_minor": 2
}
